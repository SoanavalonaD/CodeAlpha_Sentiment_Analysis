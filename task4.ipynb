{
 "cells": [
  {
   "cell_type": "code",
   "execution_count": 4,
   "id": "23f25129-b249-4e9c-9522-1800bf728fdd",
   "metadata": {},
   "outputs": [
    {
     "name": "stdout",
     "output_type": "stream",
     "text": [
      "Requirement already satisfied: NRCLex in /home/deborah/anaconda3/lib/python3.12/site-packages (3.0.0)\n",
      "Requirement already satisfied: textblob in /home/deborah/anaconda3/lib/python3.12/site-packages (from NRCLex) (0.19.0)\n",
      "Requirement already satisfied: nltk>=3.9 in /home/deborah/anaconda3/lib/python3.12/site-packages (from textblob->NRCLex) (3.9.1)\n",
      "Requirement already satisfied: click in /home/deborah/anaconda3/lib/python3.12/site-packages (from nltk>=3.9->textblob->NRCLex) (8.1.7)\n",
      "Requirement already satisfied: joblib in /home/deborah/anaconda3/lib/python3.12/site-packages (from nltk>=3.9->textblob->NRCLex) (1.4.2)\n",
      "Requirement already satisfied: regex>=2021.8.3 in /home/deborah/anaconda3/lib/python3.12/site-packages (from nltk>=3.9->textblob->NRCLex) (2024.9.11)\n",
      "Requirement already satisfied: tqdm in /home/deborah/anaconda3/lib/python3.12/site-packages (from nltk>=3.9->textblob->NRCLex) (4.66.5)\n"
     ]
    }
   ],
   "source": [
    "!pip install NRCLex"
   ]
  },
  {
   "cell_type": "code",
   "execution_count": 28,
   "id": "dff25ee2-e7c6-43d0-ab4d-8fe34d5af9f8",
   "metadata": {},
   "outputs": [
    {
     "name": "stdout",
     "output_type": "stream",
     "text": [
      "Setup complete\n"
     ]
    }
   ],
   "source": [
    "import pandas as pd\n",
    "import nltk # for the sentiment analysis\n",
    "from nltk.corpus import stopwords # to focus more on the essential words\n",
    "import re # loads Regural Expressions for data cleaning\n",
    "from sklearn.feature_extraction.text import TfidfVectorizer # converts text to numerical vector\n",
    "from sklearn.model_selection import train_test_split\n",
    "from sklearn.linear_model import LogisticRegression\n",
    "from sklearn.metrics import classification_report\n",
    "from nrclex import NRCLex\n",
    "import matplotlib.pyplot as plt\n",
    "\n",
    "print(\"Setup complete\")"
   ]
  },
  {
   "cell_type": "markdown",
   "id": "9d74523a-aa18-4475-923e-f9d17bea9340",
   "metadata": {},
   "source": [
    "## 1) Loading and exploring the dataset"
   ]
  },
  {
   "cell_type": "code",
   "execution_count": 7,
   "id": "5ac3d370-d0c5-42f7-a863-a593f77e473e",
   "metadata": {},
   "outputs": [
    {
     "data": {
      "text/plain": [
       "Id                         0\n",
       "ProductId                  0\n",
       "UserId                     0\n",
       "ProfileName               26\n",
       "HelpfulnessNumerator       0\n",
       "HelpfulnessDenominator     0\n",
       "Score                      0\n",
       "Time                       0\n",
       "Summary                   27\n",
       "Text                       0\n",
       "dtype: int64"
      ]
     },
     "execution_count": 7,
     "metadata": {},
     "output_type": "execute_result"
    }
   ],
   "source": [
    "# dataset loading\n",
    "df = pd.read_csv(\"Reviews.csv\")\n",
    "\n",
    "# checking if there's missing values\n",
    "df.isnull().sum()"
   ]
  },
  {
   "cell_type": "code",
   "execution_count": 8,
   "id": "031f4d87-1a54-4dd5-aaac-1efc1661618b",
   "metadata": {},
   "outputs": [
    {
     "name": "stdout",
     "output_type": "stream",
     "text": [
      "Sentiment\n",
      "positive    443777\n",
      "negative     82037\n",
      "neutral      42640\n",
      "Name: count, dtype: int64\n"
     ]
    }
   ],
   "source": [
    "# Taking only the text and score column\n",
    "df = df[['Text', 'Score']]\n",
    "\n",
    "# mapping rating into sentiment\n",
    "def get_sentiment(score):\n",
    "    if score <= 2:\n",
    "        return \"negative\"\n",
    "    elif score == 3:\n",
    "        return \"neutral\"\n",
    "    else:\n",
    "        return \"positive\"\n",
    "\n",
    "df['Sentiment']=df['Score'].apply(get_sentiment)\n",
    "print(df['Sentiment'].value_counts())"
   ]
  },
  {
   "cell_type": "markdown",
   "id": "b020c144-eeb3-4e22-9a4a-5ca493c20c15",
   "metadata": {},
   "source": [
    "## 2) Cleaning and prepare the text "
   ]
  },
  {
   "cell_type": "code",
   "execution_count": 10,
   "id": "64b42376-fafc-447b-a7b2-0fe1a32e10ce",
   "metadata": {},
   "outputs": [],
   "source": [
    "stop_words = set(stopwords.words('english')) # to import the english stopwords\n",
    "\n",
    "def clean_text(text):\n",
    "    text = text.lower()\n",
    "    text = re.sub(r\"[^a-z\\s]\", \"\", text) \n",
    "    words = text.split()\n",
    "    words = [w for w in words if w not in stop_words]\n",
    "    return \" \".join(words)\n",
    "\n",
    "df['Cleaned_Text'] = df['Text'].astype(str).apply(clean_text)"
   ]
  },
  {
   "cell_type": "code",
   "execution_count": 11,
   "id": "73db0b68-fb59-4967-b30d-41552b294901",
   "metadata": {},
   "outputs": [
    {
     "data": {
      "text/plain": [
       "0    bought several vitality canned dog food produc...\n",
       "1    product arrived labeled jumbo salted peanutsth...\n",
       "2    confection around centuries light pillowy citr...\n",
       "3    looking secret ingredient robitussin believe f...\n",
       "4    great taffy great price wide assortment yummy ...\n",
       "Name: Cleaned_Text, dtype: object"
      ]
     },
     "execution_count": 11,
     "metadata": {},
     "output_type": "execute_result"
    }
   ],
   "source": [
    "df.Cleaned_Text.head()"
   ]
  },
  {
   "cell_type": "markdown",
   "id": "da9df698-8211-46ec-b986-b2745bcb0250",
   "metadata": {},
   "source": [
    "## 3) Feature extraction"
   ]
  },
  {
   "cell_type": "code",
   "execution_count": 13,
   "id": "c322cd75-7f96-4b1e-8071-11bf605b888d",
   "metadata": {},
   "outputs": [],
   "source": [
    "'''\n",
    "Transforming the reviews to a mathematical representation to help the ML model\n",
    "to unerstand and work with the text\n",
    "'''\n",
    "vectorizer = TfidfVectorizer(max_features=5000)\n",
    "X = vectorizer.fit_transform(df['Cleaned_Text'])\n",
    "y = df['Sentiment']"
   ]
  },
  {
   "cell_type": "markdown",
   "id": "e712db5b-27b8-4572-b371-9211a0b4fec3",
   "metadata": {},
   "source": [
    "## 4) Training a classifier"
   ]
  },
  {
   "cell_type": "code",
   "execution_count": 26,
   "id": "e6bd61fa-8490-4574-a00b-177f656a4847",
   "metadata": {},
   "outputs": [
    {
     "name": "stdout",
     "output_type": "stream",
     "text": [
      "              precision    recall  f1-score   support\n",
      "\n",
      "    negative       0.74      0.67      0.70     16181\n",
      "     neutral       0.51      0.19      0.27      8485\n",
      "    positive       0.90      0.97      0.93     89025\n",
      "\n",
      "    accuracy                           0.87    113691\n",
      "   macro avg       0.72      0.61      0.64    113691\n",
      "weighted avg       0.85      0.87      0.85    113691\n",
      "\n"
     ]
    }
   ],
   "source": [
    "# Split\n",
    "X_train, X_test, y_train, y_test = train_test_split(X, y, test_size=0.2, random_state=42)\n",
    "\n",
    "# Train\n",
    "model = LogisticRegression(max_iter=1000)\n",
    "model.fit(X_train, y_train)\n",
    "\n",
    "# Evaluate\n",
    "y_pred = model.predict(X_test)\n",
    "print(classification_report(y_test, y_pred))"
   ]
  },
  {
   "cell_type": "code",
   "execution_count": null,
   "id": "832e9d2f-bcaa-46fa-ade9-3c3f3e54a3b9",
   "metadata": {},
   "outputs": [],
   "source": [
    "df['Sentiment'].value_counts().plot(kind='bar', color=['red','blue','green'])\n",
    "plt.title(\"Sentiment Distribution in Reviews\")\n",
    "plt.show()"
   ]
  }
 ],
 "metadata": {
  "kernelspec": {
   "display_name": "Python [conda env:base] *",
   "language": "python",
   "name": "conda-base-py"
  },
  "language_info": {
   "codemirror_mode": {
    "name": "ipython",
    "version": 3
   },
   "file_extension": ".py",
   "mimetype": "text/x-python",
   "name": "python",
   "nbconvert_exporter": "python",
   "pygments_lexer": "ipython3",
   "version": "3.12.7"
  }
 },
 "nbformat": 4,
 "nbformat_minor": 5
}
